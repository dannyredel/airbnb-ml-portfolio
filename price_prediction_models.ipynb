{
 "cells": [
  {
   "cell_type": "markdown",
   "metadata": {},
   "source": [
    "---\n",
    "title: \"Geo-Spatial Analysis\"\n",
    "author: Daniel Redel\n",
    "date: today\n",
    "format:\n",
    "  html:\n",
    "    toc: true\n",
    "    code-fold: true\n",
    "    html-math-method: katex\n",
    "jupyter: python3\n",
    "---"
   ]
  },
  {
   "cell_type": "code",
   "execution_count": 1,
   "metadata": {},
   "outputs": [],
   "source": [
    "import numpy as np\n",
    "import pandas as pd\n",
    "import geopandas as gpd\n",
    "import matplotlib.pyplot as plt\n",
    "import seaborn as sns\n",
    "\n",
    "import warnings\n",
    "warnings.simplefilter(action='ignore')\n",
    "\n",
    "my_colors =['#28AFB0', '#F46036', '#F1E3D3', '#2D1E2F', '#26547C', '#28AFB0']\n",
    "\n",
    "listings = pd.read_csv(\"listings_processed.csv\") # processed data"
   ]
  },
  {
   "cell_type": "markdown",
   "metadata": {},
   "source": [
    "Finally, we delve into the realm of machine learning to develop a predictive model aimed at estimating listing prices for Airbnb accommodations in Amsterdam. Leveraging a dataset enriched with a variety of features including location, property type, and amenities, our objective is to build a robust model capable of accurately predicting listing prices.\n",
    "\n",
    "To ensure the reliability and generalizability of our model, we will employ **k-fold cross-validation** with `k=10`, a widely-used technique for assessing model performance and mitigating overfitting. \n",
    "\n",
    "Additionally, we will explore the effectiveness of four distinct machine learning algorithms: `Lasso regression`, `Decision Tree`, `Bagging`, and `Random Forest`. By evaluating the performance of these models against our dataset, we aim to identify the most suitable approach for predicting listing prices. "
   ]
  },
  {
   "cell_type": "markdown",
   "metadata": {},
   "source": [
    "# Data Pre-Processing & Splitting"
   ]
  },
  {
   "cell_type": "markdown",
   "metadata": {},
   "source": [
    "## Pre-processing"
   ]
  },
  {
   "cell_type": "markdown",
   "metadata": {},
   "source": [
    "In the pre-processing phase, we strategically removed irrelevant variables, including listing names, IDs, host names, and other non-predictive attributes, streamlining the dataset to focus solely on features with direct relevance to price prediction:"
   ]
  },
  {
   "cell_type": "code",
   "execution_count": 2,
   "metadata": {},
   "outputs": [
    {
     "data": {
      "text/plain": [
       "(6018, 12)"
      ]
     },
     "execution_count": 2,
     "metadata": {},
     "output_type": "execute_result"
    }
   ],
   "source": [
    "listings = listings.drop(columns=[\"name\", \"host_id\", \"host_name\", \"last_review\"])\n",
    "listings.shape"
   ]
  },
  {
   "cell_type": "markdown",
   "metadata": {},
   "source": [
    "### Categorical Data (dummies)"
   ]
  },
  {
   "cell_type": "markdown",
   "metadata": {},
   "source": [
    "Additionally, recognizing the significance of categorical features in our analysis, we applied **one-hot encoding** to convert categorical variables into dummies, thereby facilitating their integration into our machine learning models. \n",
    "\n",
    "`neighbourhood`, `room_type` are not ordinal, so we will just create dummy variables with them:"
   ]
  },
  {
   "cell_type": "code",
   "execution_count": 3,
   "metadata": {},
   "outputs": [
    {
     "data": {
      "text/plain": [
       "(6018, 34)"
      ]
     },
     "execution_count": 3,
     "metadata": {},
     "output_type": "execute_result"
    }
   ],
   "source": [
    "#| code-fold: false\n",
    "\n",
    "listings_1 = pd.get_dummies(listings, columns=['neighbourhood'], drop_first=True)\n",
    "listings_2 = pd.get_dummies(listings_1, columns=['room_type'], drop_first=True)\n",
    "\n",
    "listings_2.shape"
   ]
  },
  {
   "cell_type": "markdown",
   "metadata": {},
   "source": [
    "### Feature & Target"
   ]
  },
  {
   "cell_type": "markdown",
   "metadata": {},
   "source": [
    "\n",
    "Now, we define our features and target variables. The features (`X`) represent the input data used to make predictions, while the target variable (`y`) represents the outcome we seek to predict:"
   ]
  },
  {
   "cell_type": "code",
   "execution_count": 4,
   "metadata": {},
   "outputs": [
    {
     "name": "stdout",
     "output_type": "stream",
     "text": [
      "(6018, 33) (6018,)\n"
     ]
    }
   ],
   "source": [
    "#| code-fold: false\n",
    "\n",
    "# Defining features and targets\n",
    "X = listings_2.drop(columns=[\"price\"])\n",
    "y = listings_2[\"price\"]\n",
    "print(X.shape, y.shape)"
   ]
  },
  {
   "cell_type": "markdown",
   "metadata": {},
   "source": [
    "We extract features by removing the \"`price`\" column from our dataset `listings_2`, ensuring that our model is trained solely on relevant attributes and does not inadvertently incorporate the target variable during training. \n",
    "\n",
    "Subsequently, we isolate the target variable by assigning the \"`price`\" column to the variable y, delineating the values that our model will endeavor to predict."
   ]
  },
  {
   "cell_type": "markdown",
   "metadata": {},
   "source": [
    "### Data Normalization"
   ]
  },
  {
   "cell_type": "markdown",
   "metadata": {},
   "source": [
    "We recognize the importance of data normalization —a process aimed at standardizing the scale of numerical features within our dataset. To achieve this, we utilize the `MinMaxScaler` from the `sklearn.preprocessing` module, which rescales each feature to a specified range, typically between 0 and 1. \n",
    " \n",
    "Here, we apply normalization data on: `latitude, longitude, price, minimum_nights, number_of_reviews, reviews_per_month, calculated_hosts_listings_count, availability_365, number_of_reviews_ltm`"
   ]
  },
  {
   "cell_type": "code",
   "execution_count": 5,
   "metadata": {},
   "outputs": [],
   "source": [
    "#| code-fold: false\n",
    "\n",
    "from sklearn.preprocessing import MinMaxScaler\n",
    "\n",
    "num_var = ['latitude', 'longitude', 'minimum_nights', 'number_of_reviews', 'reviews_per_month', \n",
    "           'calculated_hosts_listings_count', 'availability_365', 'number_of_reviews_ltm'] ## EXCEPT PRICE\n",
    "\n",
    "scaler = MinMaxScaler()\n",
    "X = scaler.fit_transform(X)"
   ]
  },
  {
   "cell_type": "code",
   "execution_count": 6,
   "metadata": {},
   "outputs": [
    {
     "data": {
      "text/html": [
       "<div>\n",
       "<style scoped>\n",
       "    .dataframe tbody tr th:only-of-type {\n",
       "        vertical-align: middle;\n",
       "    }\n",
       "\n",
       "    .dataframe tbody tr th {\n",
       "        vertical-align: top;\n",
       "    }\n",
       "\n",
       "    .dataframe thead th {\n",
       "        text-align: right;\n",
       "    }\n",
       "</style>\n",
       "<table border=\"1\" class=\"dataframe\">\n",
       "  <thead>\n",
       "    <tr style=\"text-align: right;\">\n",
       "      <th></th>\n",
       "      <th>0</th>\n",
       "      <th>1</th>\n",
       "      <th>2</th>\n",
       "      <th>3</th>\n",
       "      <th>4</th>\n",
       "      <th>5</th>\n",
       "      <th>6</th>\n",
       "      <th>7</th>\n",
       "      <th>8</th>\n",
       "      <th>9</th>\n",
       "      <th>...</th>\n",
       "      <th>23</th>\n",
       "      <th>24</th>\n",
       "      <th>25</th>\n",
       "      <th>26</th>\n",
       "      <th>27</th>\n",
       "      <th>28</th>\n",
       "      <th>29</th>\n",
       "      <th>30</th>\n",
       "      <th>31</th>\n",
       "      <th>32</th>\n",
       "    </tr>\n",
       "  </thead>\n",
       "  <tbody>\n",
       "    <tr>\n",
       "      <th>0</th>\n",
       "      <td>0.000000e+00</td>\n",
       "      <td>0.549117</td>\n",
       "      <td>0.693964</td>\n",
       "      <td>0.002</td>\n",
       "      <td>0.139021</td>\n",
       "      <td>0.016939</td>\n",
       "      <td>0.000000</td>\n",
       "      <td>0.120548</td>\n",
       "      <td>0.022602</td>\n",
       "      <td>0.0</td>\n",
       "      <td>...</td>\n",
       "      <td>0.0</td>\n",
       "      <td>0.0</td>\n",
       "      <td>0.0</td>\n",
       "      <td>0.0</td>\n",
       "      <td>0.0</td>\n",
       "      <td>0.0</td>\n",
       "      <td>0.0</td>\n",
       "      <td>0.0</td>\n",
       "      <td>1.0</td>\n",
       "      <td>0.0</td>\n",
       "    </tr>\n",
       "    <tr>\n",
       "      <th>1</th>\n",
       "      <td>2.074478e-14</td>\n",
       "      <td>0.547040</td>\n",
       "      <td>0.510564</td>\n",
       "      <td>0.000</td>\n",
       "      <td>0.146384</td>\n",
       "      <td>0.019089</td>\n",
       "      <td>0.047619</td>\n",
       "      <td>0.000000</td>\n",
       "      <td>0.000000</td>\n",
       "      <td>0.0</td>\n",
       "      <td>...</td>\n",
       "      <td>0.0</td>\n",
       "      <td>0.0</td>\n",
       "      <td>0.0</td>\n",
       "      <td>0.0</td>\n",
       "      <td>0.0</td>\n",
       "      <td>0.0</td>\n",
       "      <td>0.0</td>\n",
       "      <td>0.0</td>\n",
       "      <td>1.0</td>\n",
       "      <td>0.0</td>\n",
       "    </tr>\n",
       "    <tr>\n",
       "      <th>2</th>\n",
       "      <td>2.997292e-14</td>\n",
       "      <td>0.721695</td>\n",
       "      <td>0.502992</td>\n",
       "      <td>0.002</td>\n",
       "      <td>0.106973</td>\n",
       "      <td>0.016222</td>\n",
       "      <td>0.000000</td>\n",
       "      <td>0.038356</td>\n",
       "      <td>0.012217</td>\n",
       "      <td>0.0</td>\n",
       "      <td>...</td>\n",
       "      <td>0.0</td>\n",
       "      <td>0.0</td>\n",
       "      <td>0.0</td>\n",
       "      <td>0.0</td>\n",
       "      <td>0.0</td>\n",
       "      <td>0.0</td>\n",
       "      <td>0.0</td>\n",
       "      <td>0.0</td>\n",
       "      <td>1.0</td>\n",
       "      <td>0.0</td>\n",
       "    </tr>\n",
       "  </tbody>\n",
       "</table>\n",
       "<p>3 rows × 33 columns</p>\n",
       "</div>"
      ],
      "text/plain": [
       "             0         1         2      3         4         5         6   \\\n",
       "0  0.000000e+00  0.549117  0.693964  0.002  0.139021  0.016939  0.000000   \n",
       "1  2.074478e-14  0.547040  0.510564  0.000  0.146384  0.019089  0.047619   \n",
       "2  2.997292e-14  0.721695  0.502992  0.002  0.106973  0.016222  0.000000   \n",
       "\n",
       "         7         8    9   ...   23   24   25   26   27   28   29   30   31  \\\n",
       "0  0.120548  0.022602  0.0  ...  0.0  0.0  0.0  0.0  0.0  0.0  0.0  0.0  1.0   \n",
       "1  0.000000  0.000000  0.0  ...  0.0  0.0  0.0  0.0  0.0  0.0  0.0  0.0  1.0   \n",
       "2  0.038356  0.012217  0.0  ...  0.0  0.0  0.0  0.0  0.0  0.0  0.0  0.0  1.0   \n",
       "\n",
       "    32  \n",
       "0  0.0  \n",
       "1  0.0  \n",
       "2  0.0  \n",
       "\n",
       "[3 rows x 33 columns]"
      ]
     },
     "execution_count": 6,
     "metadata": {},
     "output_type": "execute_result"
    }
   ],
   "source": [
    "pd.DataFrame(X).head(3)"
   ]
  },
  {
   "cell_type": "markdown",
   "metadata": {},
   "source": [
    "## Training and Test Data"
   ]
  },
  {
   "cell_type": "markdown",
   "metadata": {},
   "source": [
    "We will use k-fold Cross Validation by running the `cross_validate` function. Here, we will implement cross validation with a Random Forest classifier and calculate the average test score across `k=10` folds. This is how it works:\n",
    "- `cv_results = cross_validate(MODEL, X, y, cv=10)`"
   ]
  },
  {
   "cell_type": "markdown",
   "metadata": {},
   "source": [
    "# Model Training"
   ]
  },
  {
   "cell_type": "markdown",
   "metadata": {},
   "source": [
    "## A. Linear Regression"
   ]
  },
  {
   "cell_type": "markdown",
   "metadata": {},
   "source": [
    "We start our modeling endeavors by implementing a **Linear Regression** approach. \n",
    "\n",
    "We also compute the **root mean squared error (RMSE)** as a metric of predictive accuracy. Subsequently, we aggregate the RMSE scores obtained from each cross-validation fold to derive an average performance metric."
   ]
  },
  {
   "cell_type": "code",
   "execution_count": 7,
   "metadata": {},
   "outputs": [
    {
     "name": "stdout",
     "output_type": "stream",
     "text": [
      "-78.22445660007757\n"
     ]
    }
   ],
   "source": [
    "#| code-fold: false\n",
    "\n",
    "import matplotlib.pyplot as plt\n",
    "from sklearn.linear_model import LinearRegression\n",
    "from sklearn.model_selection import cross_validate\n",
    "\n",
    "# Initialize Linear Regression model\n",
    "linear_reg = LinearRegression()\n",
    "\n",
    "# Cross validation and performance evaluation\n",
    "rmse_ols = cross_validate(linear_reg, X, y, cv=10, scoring='neg_root_mean_squared_error') \n",
    "\n",
    "# Average\n",
    "rmse_ols = pd.DataFrame(rmse_ols)\n",
    "print( rmse_ols[\"test_score\"].mean() )"
   ]
  },
  {
   "cell_type": "markdown",
   "metadata": {},
   "source": [
    "## B. Lasso Regression"
   ]
  },
  {
   "cell_type": "markdown",
   "metadata": {},
   "source": [
    "We also employ **Lasso Regression** —a technique renowned for its ability to perform variable selection and regularization, thereby enhancing model interpretability and generalization. \n",
    "\n",
    "Prior to model training, we embark on a hyperparameter tuning process to identify the optimal `alpha` value —a crucial parameter governing the strength of regularization in Lasso Regression."
   ]
  },
  {
   "cell_type": "code",
   "execution_count": 8,
   "metadata": {},
   "outputs": [],
   "source": [
    "#| code-fold: false\n",
    "\n",
    "import matplotlib.pyplot as plt\n",
    "from sklearn.linear_model import LassoCV\n",
    "\n",
    "# Define a range of alpha values to search over\n",
    "alphas = [0.001, 0.01, 0.1, 1.0, 10.0]\n",
    "\n",
    "# Initialize LassoCV model with cross-validation\n",
    "lasso_cv = LassoCV(alphas=alphas, cv=5)\n",
    "\n",
    "# Fit the model\n",
    "lasso_cv.fit(X, y)\n",
    "\n",
    "# Get the MSE for each alpha value\n",
    "mse_values = np.mean(lasso_cv.mse_path_, axis=1)"
   ]
  },
  {
   "cell_type": "code",
   "execution_count": 15,
   "metadata": {},
   "outputs": [
    {
     "data": {
      "image/png": "[encoded data removed]",
      "text/plain": [
       "<Figure size 800x600 with 1 Axes>"
      ]
     },
     "metadata": {},
     "output_type": "display_data"
    },
    {
     "name": "stdout",
     "output_type": "stream",
     "text": [
      "Optimal Alpha: 0.01\n"
     ]
    }
   ],
   "source": [
    "#| label: fig-lasso\n",
    "#| fig-cap: CV Lasso Hyperparameter Tuning\n",
    "\n",
    "# Plot MSE against alpha\n",
    "plt.figure(figsize=(8, 6))\n",
    "plt.plot(lasso_cv.alphas_, mse_values)\n",
    "plt.axvline(x=0.01, color='grey', linestyle='--')\n",
    "plt.xscale('log')  # Set x-axis to log scale\n",
    "plt.xlabel('Alpha')\n",
    "plt.ylabel('Mean Squared Error (MSE)')\n",
    "plt.title('MSE vs. Alpha for Lasso Regression')\n",
    "plt.grid(False)\n",
    "plt.show()\n",
    "\n",
    "print(\"Optimal Alpha:\", lasso_cv.alpha_)"
   ]
  },
  {
   "cell_type": "markdown",
   "metadata": {},
   "source": [
    "From @fig-lasso, we have identified the optimal hyperparameter for our Lasso Regression model to be `alpha=0.01`. With this optimal alpha value in hand, we are poised to proceed with training our Lasso Regression model:"
   ]
  },
  {
   "cell_type": "code",
   "execution_count": 16,
   "metadata": {},
   "outputs": [
    {
     "name": "stdout",
     "output_type": "stream",
     "text": [
      "-78.22394950116399\n"
     ]
    }
   ],
   "source": [
    "#| code-fold: false\n",
    "\n",
    "from sklearn.linear_model import Lasso\n",
    "from sklearn.model_selection import cross_validate\n",
    "\n",
    "lasso = Lasso(alpha=lasso_cv.alpha_, random_state=42)\n",
    "\n",
    "# Cross validation and performance evaluation\n",
    "rmse_lasso = cross_validate(lasso, X, y, cv=10, scoring='neg_root_mean_squared_error') \n",
    "\n",
    "# Average\n",
    "rmse_lasso = pd.DataFrame(rmse_lasso)\n",
    "print( rmse_lasso[\"test_score\"].mean() )"
   ]
  },
  {
   "cell_type": "markdown",
   "metadata": {},
   "source": [
    "## C. Decision Tree"
   ]
  },
  {
   "cell_type": "markdown",
   "metadata": {},
   "source": [
    "For **Decision Trees**, common hyperparameters include the maximum depth of the tree, minimum samples required to split an internal node, minimum samples required to be at a leaf node, and maximum features considered for splitting."
   ]
  },
  {
   "cell_type": "code",
   "execution_count": 109,
   "metadata": {},
   "outputs": [
    {
     "name": "stdout",
     "output_type": "stream",
     "text": [
      "{'max_depth': 10, 'max_features': 'sqrt', 'min_samples_leaf': 4, 'min_samples_split': 10}\n"
     ]
    }
   ],
   "source": [
    "#| cache: true\n",
    "#| code-fold: false\n",
    "\n",
    "from sklearn.tree import DecisionTreeRegressor\n",
    "from sklearn.model_selection import GridSearchCV\n",
    "\n",
    "# Define hyperparameters for Decision Tree\n",
    "param_grid_dt = {\n",
    "    'max_depth': [None, 10, 20, 30],\n",
    "    'min_samples_split': [2, 5, 10],\n",
    "    'min_samples_leaf': [1, 2, 4],\n",
    "    'max_features': ['auto', 'sqrt', 'log2']\n",
    "}\n",
    "\n",
    "# Initialize Decision Tree Regressor\n",
    "dt_regressor = DecisionTreeRegressor(random_state=42)\n",
    "\n",
    "# Perform grid search cross-validation for Decision Tree\n",
    "grid_search_dt = GridSearchCV(dt_regressor, param_grid_dt, cv=5, scoring='neg_mean_squared_error')\n",
    "grid_search_dt.fit(X, y)\n",
    "\n",
    "# Get the best hyperparameters for Decision Tree\n",
    "best_params_dt = grid_search_dt.best_params_\n",
    "print( best_params_dt )"
   ]
  },
  {
   "cell_type": "code",
   "execution_count": null,
   "metadata": {},
   "outputs": [],
   "source": [
    "#| code-fold: false\n",
    "\n",
    "import matplotlib.pyplot as plt\n",
    "from sklearn.tree import DecisionTreeRegressor\n",
    "from sklearn.model_selection import cross_validate\n",
    "\n",
    "# Initialize Decision Tree Regressor\n",
    "decision_tree_reg = DecisionTreeRegressor(max_depth = best_params_dt['max_depth'],\n",
    "                                     min_samples_split = best_params_dt['min_samples_split'],\n",
    "                                     min_samples_leaf = best_params_dt['min_samples_leaf'],\n",
    "                                     max_features = best_params_dt['max_features'],\n",
    "                                     random_state = 42)\n",
    "\n",
    "# Cross validation and performance evaluation\n",
    "rmse_tree = cross_validate(decision_tree_reg, X, y, cv=10, scoring='neg_root_mean_squared_error') \n",
    "\n",
    "# Average\n",
    "rmse_tree = pd.DataFrame(rmse_tree)\n",
    "print( rmse_tree[\"test_score\"].mean() )"
   ]
  },
  {
   "cell_type": "markdown",
   "metadata": {},
   "source": [
    "## D. Bagging (Ensemble Methods)"
   ]
  },
  {
   "cell_type": "markdown",
   "metadata": {},
   "source": [
    "For **Bagging**, additional hyperparameters such as the number of base estimators (trees), the number of features to consider, numbere fo samples to draw, etc.\n",
    "\n",
    "However, here we will use Random Search, due to computational limitations:"
   ]
  },
  {
   "cell_type": "code",
   "execution_count": 114,
   "metadata": {},
   "outputs": [
    {
     "name": "stdout",
     "output_type": "stream",
     "text": [
      "{'bootstrap': False, 'bootstrap_features': False, 'max_features': 1.0, 'max_samples': 0.75, 'n_estimators': 455}\n"
     ]
    }
   ],
   "source": [
    "#| cache: true\n",
    "#| code-fold: false\n",
    "\n",
    "from sklearn.ensemble import BaggingRegressor\n",
    "from sklearn.model_selection import RandomizedSearchCV\n",
    "from scipy.stats import randint\n",
    "\n",
    "\n",
    "# Define hyperparameters for Bagging\n",
    "param_dist_bagging = {\n",
    "    'n_estimators': randint(10, 500),\n",
    "    'max_samples': [0.5, 0.75, 1.0],\n",
    "    'max_features': [0.5, 0.75, 1.0],\n",
    "    'bootstrap': [True, False],\n",
    "    'bootstrap_features': [True, False]\n",
    "}\n",
    "\n",
    "# Initialize base estimator (e.g., Decision Tree)\n",
    "base_estimator = DecisionTreeRegressor(max_depth = best_params_dt['max_depth'],\n",
    "                                     min_samples_split = best_params_dt['min_samples_split'],\n",
    "                                     min_samples_leaf = best_params_dt['min_samples_leaf'],\n",
    "                                     max_features = best_params_dt['max_features'],\n",
    "                                     random_state = 42)\n",
    "\n",
    "# Initialize Bagging Regressor\n",
    "bagging_regressor = BaggingRegressor(base_estimator=base_estimator, random_state=42)\n",
    "\n",
    "\n",
    "# Perform randomized search cross-validation\n",
    "random_search_bagging = RandomizedSearchCV(bagging_regressor, param_distributions=param_dist_bagging, n_iter=8, cv=5, scoring='neg_mean_squared_error', random_state=42)\n",
    "random_search_bagging.fit(X, y)\n",
    "\n",
    "# Get the best hyperparameters\n",
    "best_params_bagging = random_search_bagging.best_params_\n",
    "\n",
    "print( best_params_bagging )\n"
   ]
  },
  {
   "cell_type": "code",
   "execution_count": null,
   "metadata": {},
   "outputs": [],
   "source": [
    "#| cache: true\n",
    "#| code-fold: false\n",
    "\n",
    "import matplotlib.pyplot as plt\n",
    "from sklearn.ensemble import BaggingRegressor\n",
    "from sklearn.model_selection import cross_validate\n",
    "\n",
    "\n",
    "# Initialize Bagging Regressor with the best hyperparameters\n",
    "bagging_regressor = BaggingRegressor(base_estimator=base_estimator,\n",
    "                                     n_estimators=best_params_bagging['n_estimators'],\n",
    "                                     max_samples=best_params_bagging['max_samples'],\n",
    "                                     max_features=best_params_bagging['max_features'],\n",
    "                                     bootstrap=best_params_bagging['bootstrap'],\n",
    "                                     bootstrap_features=best_params_bagging['bootstrap_features'],\n",
    "                                     random_state=42)\n",
    "\n",
    "# Cross validation and performance evaluation\n",
    "rmse_bagging = cross_validate(bagging_reg, X, y, cv=10, scoring='neg_root_mean_squared_error') \n",
    "\n",
    "# Average\n",
    "rmse_bagging = pd.DataFrame(rmse_bagging)\n",
    "print( rmse_bagging[\"test_score\"].mean() )"
   ]
  },
  {
   "cell_type": "markdown",
   "metadata": {},
   "source": [
    "## E. Random Forest (Ensemble Methods)"
   ]
  },
  {
   "cell_type": "markdown",
   "metadata": {},
   "source": [
    "Finally, we train our **Random Forests** model, where additional hyperparameters such as the number of trees in the forest and the number of features to consider for each split also need to be considered."
   ]
  },
  {
   "cell_type": "code",
   "execution_count": 116,
   "metadata": {},
   "outputs": [
    {
     "name": "stdout",
     "output_type": "stream",
     "text": [
      "{'max_depth': 25, 'max_features': 'sqrt', 'min_samples_leaf': 2, 'min_samples_split': 5, 'n_estimators': 485}\n"
     ]
    }
   ],
   "source": [
    "#| cache: true\n",
    "#| code-fold: false\n",
    "\n",
    "# Define hyperparameters for Random Forest\n",
    "param_dist_rf = {\n",
    "    'n_estimators': randint(100, 500),\n",
    "    'max_depth': [None] + list(range(10, 31, 5)),\n",
    "    'min_samples_split': [2, 5, 10],\n",
    "    'min_samples_leaf': [1, 2, 4],\n",
    "    'max_features': ['auto', 'sqrt', 'log2']\n",
    "}\n",
    "\n",
    "# Define the hyperparameter grid\n",
    "#param_dist_rf = {'n_estimators': [10, 50, 100], \n",
    "#              'max_features': [None,'sqrt', 'log2'], 'criterion': ['gini','entropy']}\n",
    "\n",
    "# Initialize Random Forest Regressor\n",
    "rf_regressor = RandomForestRegressor(random_state=42)\n",
    "\n",
    "# Perform grid search cross-validation for Random Forest\n",
    "random_search_rf = RandomizedSearchCV(rf_regressor, param_distributions=param_dist_rf, n_iter=8, cv=5, scoring='neg_mean_squared_error', random_state=42)\n",
    "random_search_rf.fit(X, y)\n",
    "\n",
    "# Get the best hyperparameters for Random Forest\n",
    "best_params_rf = random_search_rf.best_params_\n",
    "print( best_params_rf )"
   ]
  },
  {
   "cell_type": "code",
   "execution_count": null,
   "metadata": {},
   "outputs": [],
   "source": [
    "#| cache: true\n",
    "#| code-fold: false\n",
    "\n",
    "import matplotlib.pyplot as plt\n",
    "from sklearn.ensemble import RandomForestRegressor\n",
    "from sklearn.model_selection import cross_validate\n",
    "\n",
    "# Initialize\n",
    "rf_regressor = RandomForestRegressor(n_estimators = best_params_rf['n_estimators'],\n",
    "                                      max_depth = best_params_rf['max_depth'],\n",
    "                                      min_samples_split = best_params_rf['min_samples_split'],\n",
    "                                      min_samples_leaf = best_params_rf['min_samples_leaf'],\n",
    "                                      max_features = best_params_rf['max_features'],\n",
    "                                      random_state = 42)\n",
    "\n",
    "# Cross validation and performance evaluation\n",
    "rmse_rf = cross_validate(rf_regressor, X, y, cv=10, scoring='neg_root_mean_squared_error') \n",
    "\n",
    "# Average\n",
    "rmse_rf = pd.DataFrame(rmse_rf)\n",
    "print( rmse_rf[\"test_score\"].mean() )"
   ]
  },
  {
   "cell_type": "markdown",
   "metadata": {},
   "source": [
    "# Performance Evaluation"
   ]
  },
  {
   "cell_type": "markdown",
   "metadata": {},
   "source": [
    "In the final stage of our analysis, we turn our attention to performance evaluation, where we assess the efficacy of our machine learning models in predicting Airbnb listing prices. To facilitate a comprehensive comparison, we compute the **out-of-sample** (OOS) **root mean squared error** (RMSE) for each model, a widely-used metric for evaluating prediction accuracy. \n",
    "\n",
    "We visualize the distribution of OOS RMSE values across different models using boxplots:"
   ]
  },
  {
   "cell_type": "code",
   "execution_count": 119,
   "metadata": {},
   "outputs": [
    {
     "data": {
      "image/png": "[encoded data removed]",
      "text/plain": [
       "<Figure size 800x400 with 1 Axes>"
      ]
     },
     "metadata": {},
     "output_type": "display_data"
    }
   ],
   "source": [
    "#| label: fig-performance\n",
    "#| fig-cap: Performance Evaluation\n",
    "\n",
    "# Concatenate all RMSE scores into a single DataFrame\n",
    "models = ['OLS Regression', 'Lasso Regression', 'Decision Tree', 'Bagging Ensemble', 'Random Forest']\n",
    "rmse_scores = [rmse_ols[\"test_score\"], rmse_lasso[\"test_score\"], rmse_tree[\"test_score\"], rmse_bagging[\"test_score\"], rmse_rf[\"test_score\"]]\n",
    "\n",
    "my_rmse = pd.DataFrame({'Model': [model for model, scores in zip(models, rmse_scores) for _ in scores],\n",
    "                        'RMSE': np.concatenate(rmse_scores)})\n",
    "\n",
    "# Colors\n",
    "my_palette = ['#28AFB0', '#F46036', '#F1E3D3', '#2D1E2F', '#26547C', '#28AFB0']\n",
    "\n",
    "# Plot box plot using Seaborn\n",
    "plt.figure(figsize=(8, 4))\n",
    "sns.boxplot(x='Model', y='RMSE', data=my_rmse, palette=my_palette)\n",
    "sns.stripplot(x='Model', y='RMSE', data=my_rmse, color='black', jitter=True, size=5)\n",
    "plt.title('Comparison of Root Mean Squared Error (RMSE), by Models')\n",
    "plt.xlabel('Models')\n",
    "plt.ylabel('RMSE')\n",
    "plt.xticks(rotation=45)\n",
    "plt.grid(True)\n",
    "plt.show()"
   ]
  },
  {
   "cell_type": "markdown",
   "metadata": {},
   "source": [
    "The results in @fig-performance reveals distinct performance profiles among the models, with **Random Forest and Bagging emerging as the top performers**. Not only do these models exhibit better median RMSE values, indicating superior predictive accuracy on average, but they also demonstrate less variance in RMSE, suggesting greater consistency in performance across different data samples. Conversely, the Decision Tree model displays worse RMSE and higher variability in prediction errors, indicating less stable performance across different datasets.\n",
    "\n",
    "Interestingly, Linear Regression (OLS) and Lasso Regression exhibit similar performance profiles, with comparable median RMSE values and variability. This observation suggests that both models offer similar levels of predictive accuracy for the Amsterdam Airbnb dataset.\n",
    "\n",
    "Overall, our performance evaluation underscores the superior predictive capabilities of Random Forest and Bagging models, positioning them as preferred choices for accurate and reliable price predictions within the Amsterdam Airbnb market."
   ]
  }
 ],
 "metadata": {
  "kernelspec": {
   "display_name": "base",
   "language": "python",
   "name": "python3"
  },
  "language_info": {
   "codemirror_mode": {
    "name": "ipython",
    "version": 3
   },
   "file_extension": ".py",
   "mimetype": "text/x-python",
   "name": "python",
   "nbconvert_exporter": "python",
   "pygments_lexer": "ipython3",
   "version": "3.11.5"
  }
 },
 "nbformat": 4,
 "nbformat_minor": 2
}
