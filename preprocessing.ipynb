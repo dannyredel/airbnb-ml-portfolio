{
 "cells": [
  {
   "cell_type": "markdown",
   "metadata": {},
   "source": [
    "---\n",
    "title: \"Pre-Processing Data\"\n",
    "author: Daniel Redel\n",
    "date: today\n",
    "format:\n",
    "  html:\n",
    "    toc: true\n",
    "    code-fold: true\n",
    "    html-math-method: katex\n",
    "jupyter: python3\n",
    "---"
   ]
  },
  {
   "cell_type": "code",
   "execution_count": 3,
   "metadata": {},
   "outputs": [],
   "source": [
    "#| code-fold: false\n",
    "\n",
    "import numpy as np\n",
    "import pandas as pd\n",
    "import matplotlib.pyplot as plt\n",
    "import seaborn as sns\n",
    "\n",
    "import warnings\n",
    "warnings.simplefilter(action='ignore')\n",
    "\n",
    "my_colors =['#28AFB0', '#F46036', '#F1E3D3', '#2D1E2F', '#26547C', '#28AFB0']\n",
    "file = \"D:/Career/Data Science/Portfolios/Inside AirBnB - Netherlands/Amsterdam/\"\n",
    "\n",
    "listings = pd.read_csv(file + \"listings.csv\")\n",
    "listings_detailed = pd.read_csv(file + \"listings_detailed.csv\")\n",
    "calendar = pd.read_csv(file + 'calendar.csv')\n",
    "reviews = pd.read_csv(file + 'reviews.csv')\n",
    "reviews_detailed = pd.read_csv(file + 'reviews_detailed.csv')\n",
    "neighbourhoods = pd.read_csv(file + 'neighbourhoods.csv')"
   ]
  },
  {
   "cell_type": "markdown",
   "metadata": {},
   "source": [
    "## 1. Missing Values"
   ]
  },
  {
   "cell_type": "markdown",
   "metadata": {},
   "source": [
    "We will start our project by dealing with potential missing values."
   ]
  },
  {
   "cell_type": "markdown",
   "metadata": {},
   "source": [
    "### `Listings` dataset"
   ]
  },
  {
   "cell_type": "markdown",
   "metadata": {},
   "source": [
    "Let's inspect the `listings` dataset first:"
   ]
  },
  {
   "cell_type": "code",
   "execution_count": 42,
   "metadata": {},
   "outputs": [
    {
     "data": {
      "text/plain": [
       "(6998, 18)"
      ]
     },
     "execution_count": 42,
     "metadata": {},
     "output_type": "execute_result"
    }
   ],
   "source": [
    "#| code-fold: false\n",
    "\n",
    "listings.shape"
   ]
  },
  {
   "cell_type": "markdown",
   "metadata": {},
   "source": [
    "We have that the original dataset contains `6,998` observations and `18` variables. Let's check know the potential missing values:"
   ]
  },
  {
   "cell_type": "code",
   "execution_count": 43,
   "metadata": {},
   "outputs": [
    {
     "data": {
      "text/plain": [
       "id                                  0.000000\n",
       "name                                0.000000\n",
       "host_id                             0.000000\n",
       "host_name                           0.000000\n",
       "neighbourhood_group               100.000000\n",
       "neighbourhood                       0.000000\n",
       "latitude                            0.000000\n",
       "longitude                           0.000000\n",
       "room_type                           0.000000\n",
       "price                               0.000000\n",
       "minimum_nights                      0.000000\n",
       "number_of_reviews                   0.000000\n",
       "last_review                         9.745642\n",
       "reviews_per_month                   9.745642\n",
       "calculated_host_listings_count      0.000000\n",
       "availability_365                    0.000000\n",
       "number_of_reviews_ltm               0.000000\n",
       "license                             0.342955\n",
       "dtype: float64"
      ]
     },
     "execution_count": 43,
     "metadata": {},
     "output_type": "execute_result"
    }
   ],
   "source": [
    "listings.isna().sum() / len(listings) * 100"
   ]
  },
  {
   "cell_type": "markdown",
   "metadata": {},
   "source": [
    "Since `neighbourhood_group` has only `NA`'s and `license` does not seem to be a relevant variable, we will drop them:"
   ]
  },
  {
   "cell_type": "code",
   "execution_count": 4,
   "metadata": {},
   "outputs": [
    {
     "data": {
      "text/plain": [
       "(6998, 16)"
      ]
     },
     "execution_count": 4,
     "metadata": {},
     "output_type": "execute_result"
    }
   ],
   "source": [
    "#| code-fold: false\n",
    "\n",
    "drop_var = ['neighbourhood_group', 'license']\n",
    "listings = listings.drop(columns = drop_var)\n",
    "listings.shape"
   ]
  },
  {
   "cell_type": "markdown",
   "metadata": {},
   "source": [
    "What about `last_review` and `reviews_per_month`? No more than 9.7% of them are missing values. Seems reasonable to just drop those, instead of applying imputation methods:"
   ]
  },
  {
   "cell_type": "code",
   "execution_count": 5,
   "metadata": {},
   "outputs": [
    {
     "name": "stdout",
     "output_type": "stream",
     "text": [
      "Observations: 6316\n"
     ]
    }
   ],
   "source": [
    "#| code-fold: false\n",
    "\n",
    "na_vars = ['last_review', 'reviews_per_month']\n",
    "listings.dropna(subset=na_vars, axis=0, inplace=True)\n",
    "print('Observations:', len(listings) )"
   ]
  },
  {
   "cell_type": "markdown",
   "metadata": {},
   "source": [
    "This lead us to `6,316` observations."
   ]
  },
  {
   "cell_type": "markdown",
   "metadata": {},
   "source": [
    "### `calendar` dataset"
   ]
  },
  {
   "cell_type": "markdown",
   "metadata": {},
   "source": [
    "We repeat the process with the `calendar` dataset:"
   ]
  },
  {
   "cell_type": "code",
   "execution_count": 6,
   "metadata": {},
   "outputs": [
    {
     "name": "stdout",
     "output_type": "stream",
     "text": [
      "(2554278, 7)\n",
      "listing_id        0.000000\n",
      "date              0.000000\n",
      "available         0.000000\n",
      "price             0.029715\n",
      "adjusted_price    0.029715\n",
      "minimum_nights    0.000078\n",
      "maximum_nights    0.000078\n",
      "dtype: float64\n"
     ]
    }
   ],
   "source": [
    "print( calendar.shape )\n",
    "print ( calendar.isna().sum() / len(calendar) * 100 )"
   ]
  },
  {
   "cell_type": "markdown",
   "metadata": {},
   "source": [
    "Since the proportion of missing values is low, let's just drop those observations:"
   ]
  },
  {
   "cell_type": "code",
   "execution_count": 7,
   "metadata": {},
   "outputs": [
    {
     "name": "stdout",
     "output_type": "stream",
     "text": [
      "Observations: 2553517\n"
     ]
    }
   ],
   "source": [
    "#| code-fold: false\n",
    "\n",
    "calendar.dropna(axis=0, inplace=True)\n",
    "print('Observations:', len(calendar) )"
   ]
  },
  {
   "cell_type": "markdown",
   "metadata": {},
   "source": [
    "### `reviews` dataset"
   ]
  },
  {
   "cell_type": "markdown",
   "metadata": {},
   "source": [
    "Same process with the `reviews` dataset:"
   ]
  },
  {
   "cell_type": "code",
   "execution_count": 49,
   "metadata": {},
   "outputs": [
    {
     "name": "stdout",
     "output_type": "stream",
     "text": [
      "(339805, 6)\n",
      "listing_id       0.000000\n",
      "id               0.000000\n",
      "date             0.000000\n",
      "reviewer_id      0.000000\n",
      "reviewer_name    0.000000\n",
      "comments         0.004414\n",
      "dtype: float64\n"
     ]
    }
   ],
   "source": [
    "print( reviews_detailed.shape )\n",
    "print( reviews_detailed.isna().sum() / len(reviews_detailed) * 100 )"
   ]
  },
  {
   "cell_type": "code",
   "execution_count": 8,
   "metadata": {},
   "outputs": [
    {
     "name": "stdout",
     "output_type": "stream",
     "text": [
      "Observations: 339790\n"
     ]
    }
   ],
   "source": [
    "reviews_detailed.dropna(axis=0, inplace=True)\n",
    "print('Observations:', len(reviews_detailed) )"
   ]
  },
  {
   "cell_type": "markdown",
   "metadata": {},
   "source": [
    "## 2. Outliers"
   ]
  },
  {
   "cell_type": "markdown",
   "metadata": {},
   "source": [
    "Now we can check and remove potential outliers in our dataset. Let's start by checking our `price` variable, which will be our main outcome of interest. "
   ]
  },
  {
   "cell_type": "markdown",
   "metadata": {},
   "source": [
    "### `listings` - Price"
   ]
  },
  {
   "cell_type": "markdown",
   "metadata": {},
   "source": [
    "Plotting an histogram on price already tell of something about having the existence of outliers:"
   ]
  },
  {
   "cell_type": "code",
   "execution_count": 9,
   "metadata": {},
   "outputs": [
    {
     "data": {
      "image/png": "[encoded data removed]",
      "text/plain": [
       "<Figure size 800x500 with 1 Axes>"
      ]
     },
     "metadata": {},
     "output_type": "display_data"
    }
   ],
   "source": [
    "#| label: fig-price\n",
    "#| fig-cap: Distribution of Price\n",
    "\n",
    "import seaborn as sns\n",
    "my_colors =['#28AFB0', '#F46036', '#F1E3D3', '#2D1E2F', '#26547C']\n",
    "\n",
    "# Set up Figure\n",
    "#fig, ax = plt.subplots(figsize=(8,4))\n",
    "\n",
    "# Hist + KDE\n",
    "sns.displot(data=listings, x=\"price\", kde=True, color=my_colors[0], aspect=8/5)\n",
    "\n",
    "# Labels\n",
    "plt.xlabel('Price')\n",
    "plt.ylabel('')\n",
    "plt.title('Distribution of Prices')\n",
    "\n",
    "# Show the Plot\n",
    "plt.show()"
   ]
  },
  {
   "cell_type": "markdown",
   "metadata": {},
   "source": [
    "@fig-price reveals a pronounced tail towards the higher end, indicating the presence of outliers—entries with significantly higher prices compared to the majority of listings. These outliers can skew statistical analysis and machine learning models, potentially leading to inaccurate predictions. Employing the **Interquartile Range (IQR)** approach is a robust method for detecting and managing outliers. \n",
    "\n",
    "By calculating the IQR, which represents the range between the 25th and 75th percentiles of the data distribution, we can identify values that fall beyond a certain multiple of the IQR from the quartiles. Let's identify the outliers by calculating the IQR:"
   ]
  },
  {
   "cell_type": "code",
   "execution_count": 10,
   "metadata": {},
   "outputs": [],
   "source": [
    "#| code-fold: false\n",
    "\n",
    "# calculate IQR for column Height\n",
    "Q1 = listings['price'].quantile(0.25)\n",
    "Q3 = listings['price'].quantile(0.75)\n",
    "IQR = Q3 - Q1\n",
    "\n",
    "# identify outliers\n",
    "thres = 1.5\n",
    "outliers = listings[(listings['price'] < Q1 - thres * IQR) | (listings['price'] > Q3 + thres * IQR)]\n",
    "\n",
    "# drop rows containing outliers\n",
    "listings = listings.drop(outliers.index)"
   ]
  },
  {
   "cell_type": "markdown",
   "metadata": {},
   "source": [
    "With this we can plot again our histogram without the outliers:"
   ]
  },
  {
   "cell_type": "code",
   "execution_count": 8,
   "metadata": {},
   "outputs": [
    {
     "data": {
      "image/png": "[encoded data removed]",
      "text/plain": [
       "<Figure size 800x500 with 1 Axes>"
      ]
     },
     "metadata": {},
     "output_type": "display_data"
    },
    {
     "name": "stdout",
     "output_type": "stream",
     "text": [
      "(6018, 16)\n"
     ]
    }
   ],
   "source": [
    "#| label: fig-price-iqr\n",
    "#| fig-cap: Distribution of Price (No Outliers)\n",
    "\n",
    "import seaborn as sns\n",
    "my_colors =['#28AFB0', '#F46036', '#F1E3D3', '#2D1E2F', '#26547C']\n",
    "\n",
    "# Set up Figure\n",
    "#fig, ax = plt.subplots(figsize=(8,4))\n",
    "\n",
    "# Hist + KDE\n",
    "sns.displot(data=listings, x=\"price\", kde=True, color=my_colors[0], aspect=8/5)\n",
    "\n",
    "# Labels\n",
    "plt.xlabel('Price')\n",
    "plt.ylabel('')\n",
    "plt.title('Distribution of Prices')\n",
    "\n",
    "# Show the Plot\n",
    "plt.show()\n",
    "print(listings.shape)"
   ]
  },
  {
   "cell_type": "markdown",
   "metadata": {},
   "source": [
    "The histogram in @fig-price-iqr now exhibits a more symmetrical and bell-shaped distribution. This indicates a more normalized spread of prices, suggesting that extreme outliers have been successfully mitigated. \n",
    "\n",
    "Notably, with outliers removed, the average price per night for Airbnb listings in Amsterdam is approximately `190` euros."
   ]
  },
  {
   "cell_type": "markdown",
   "metadata": {},
   "source": [
    "## Data Export"
   ]
  },
  {
   "cell_type": "markdown",
   "metadata": {},
   "source": [
    "We'll export this finalized dataset. Going forward, all our analyses will rely on this processed dataset, which has undergone outlier removal using the IQR method."
   ]
  },
  {
   "cell_type": "code",
   "execution_count": 10,
   "metadata": {},
   "outputs": [],
   "source": [
    "#| code-fold: false\n",
    "\n",
    "listings.to_csv('listings_processed.csv', index=False)\n",
    "calendar.to_csv('calendar_processed.csv', index=False)\n",
    "# reviews_detailed.to_csv('reviews_processed.csv', index=False)"
   ]
  }
 ],
 "metadata": {
  "kernelspec": {
   "display_name": "base",
   "language": "python",
   "name": "python3"
  },
  "language_info": {
   "codemirror_mode": {
    "name": "ipython",
    "version": 3
   },
   "file_extension": ".py",
   "mimetype": "text/x-python",
   "name": "python",
   "nbconvert_exporter": "python",
   "pygments_lexer": "ipython3",
   "version": "3.11.5"
  }
 },
 "nbformat": 4,
 "nbformat_minor": 2
}
