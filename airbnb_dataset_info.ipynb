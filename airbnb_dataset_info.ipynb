{
 "cells": [
  {
   "cell_type": "markdown",
   "id": "dce7a443",
   "metadata": {},
   "source": [
    "---\n",
    "title: \"Airbnb Dataset Description\"\n",
    "author: Daniel Redel\n",
    "date: today\n",
    "format:\n",
    "  html:\n",
    "    toc: true\n",
    "    code-fold: true\n",
    "    html-math-method: katex\n",
    "jupyter: python3\n",
    "---"
   ]
  },
  {
   "cell_type": "markdown",
   "id": "8eeb1646-8929-4d0c-815f-7f4d1b924062",
   "metadata": {
    "tags": []
   },
   "source": [
    "# Amsterdam Inside-AirBnB Dataset"
   ]
  },
  {
   "cell_type": "markdown",
   "id": "e2675787-dbf4-42f0-b713-1096b79b754e",
   "metadata": {},
   "source": [
    "**From the project website**: http://insideairbnb.com/about/\n",
    "\n",
    "Inside Airbnb is a mission driven project that provides data and advocacy about Airbnb's impact on residential communities.\n",
    "\n",
    "The dataset contains 7000 Amsterdam listings (each with 75 features) and 300k textual reviews from airbnb.com, scraped in March 2023. Oldest listings have reviews from as far as 2009. Additionally, for each listing, the dataset includes the price of stay for each day (night) since March 2023 till March 2024, as well as whether this day is available for booking, also scraped in March 2023.\n",
    "\n",
    "The features descriptions can be found in this [sheet from Inside Airbnb](https://docs.google.com/spreadsheets/d/1iWCNJcSutYqpULSQHlNyGInUvHg2BoUGoNRIGa6Szc4/edit#gid=1322284596).\n",
    "\n",
    "**File descriptions**:\n",
    "- `listings.csv`: Detailed Listings data\n",
    "- `calendar.csv`: Detailed Calendar Data\n",
    "- `reviews.csv`: Detailed Review Data\n",
    "- `listings.csv`: Summary information and metrics for listings in Amsterdam (good for visualisations).\n",
    "- `reviews.csv`: Summary Review data and Listing ID (to facilitate time based analytics and visualisations linked to a listing).\n",
    "- `neighbourhoods.csv` Neighbourhood list for geo filter. Sourced from city or open source GIS files.\n",
    "- `neighbourhoods.geojson` GeoJSON file of neighbourhoods of the city."
   ]
  },
  {
   "cell_type": "markdown",
   "id": "41d5ce70-4198-4e93-8f97-acf63e3e2c63",
   "metadata": {},
   "source": [
    "## Motivation"
   ]
  },
  {
   "cell_type": "markdown",
   "id": "8f7b613e-b8ff-4362-adbd-0f3d65de499a",
   "metadata": {},
   "source": [
    "1. Exploratory Data Analysis\n",
    "    - Geomaps\n",
    "2. Price and Rating Prediction"
   ]
  },
  {
   "cell_type": "markdown",
   "id": "bd0f6db2-db19-42b9-b8aa-d8bf599b610e",
   "metadata": {},
   "source": [
    "## Data Import"
   ]
  },
  {
   "cell_type": "code",
   "execution_count": 55,
   "id": "3339b8a2-3167-4345-9d96-3ea881cdfa15",
   "metadata": {
    "tags": []
   },
   "outputs": [],
   "source": [
    "import numpy as np\n",
    "import pandas as pd\n",
    "import matplotlib.pyplot as plt\n",
    "\n",
    "file = \"D:/Data Science/Inside AirBnB - Netherlands/Amsterdam/\""
   ]
  },
  {
   "cell_type": "markdown",
   "id": "b2e356d1-4866-4e87-8f4a-5b5dedcbffc3",
   "metadata": {},
   "source": [
    "### Listings dataset"
   ]
  },
  {
   "cell_type": "code",
   "execution_count": 56,
   "id": "d20f5881-62da-463f-81ea-fb3e562c2f52",
   "metadata": {
    "tags": []
   },
   "outputs": [
    {
     "data": {
      "text/html": [
       "<div>\n",
       "<style scoped>\n",
       "    .dataframe tbody tr th:only-of-type {\n",
       "        vertical-align: middle;\n",
       "    }\n",
       "\n",
       "    .dataframe tbody tr th {\n",
       "        vertical-align: top;\n",
       "    }\n",
       "\n",
       "    .dataframe thead th {\n",
       "        text-align: right;\n",
       "    }\n",
       "</style>\n",
       "<table border=\"1\" class=\"dataframe\">\n",
       "  <thead>\n",
       "    <tr style=\"text-align: right;\">\n",
       "      <th></th>\n",
       "      <th>id</th>\n",
       "      <th>name</th>\n",
       "      <th>host_id</th>\n",
       "      <th>host_name</th>\n",
       "      <th>neighbourhood_group</th>\n",
       "      <th>neighbourhood</th>\n",
       "      <th>latitude</th>\n",
       "      <th>longitude</th>\n",
       "      <th>room_type</th>\n",
       "      <th>price</th>\n",
       "      <th>minimum_nights</th>\n",
       "      <th>number_of_reviews</th>\n",
       "      <th>last_review</th>\n",
       "      <th>reviews_per_month</th>\n",
       "      <th>calculated_host_listings_count</th>\n",
       "      <th>availability_365</th>\n",
       "      <th>number_of_reviews_ltm</th>\n",
       "      <th>license</th>\n",
       "    </tr>\n",
       "  </thead>\n",
       "  <tbody>\n",
       "    <tr>\n",
       "      <th>0</th>\n",
       "      <td>2818</td>\n",
       "      <td>Quiet Garden View Room &amp; Super Fast Wi-Fi</td>\n",
       "      <td>3159</td>\n",
       "      <td>Daniel</td>\n",
       "      <td>NaN</td>\n",
       "      <td>Oostelijk Havengebied - Indische Buurt</td>\n",
       "      <td>52.36435</td>\n",
       "      <td>4.94358</td>\n",
       "      <td>Private room</td>\n",
       "      <td>69</td>\n",
       "      <td>3</td>\n",
       "      <td>322</td>\n",
       "      <td>2023-02-28</td>\n",
       "      <td>1.90</td>\n",
       "      <td>1</td>\n",
       "      <td>44</td>\n",
       "      <td>37</td>\n",
       "      <td>0363 5F3A 5684 6750 D14D</td>\n",
       "    </tr>\n",
       "    <tr>\n",
       "      <th>1</th>\n",
       "      <td>20168</td>\n",
       "      <td>Studio with private bathroom in the centre 1</td>\n",
       "      <td>59484</td>\n",
       "      <td>Alexander</td>\n",
       "      <td>NaN</td>\n",
       "      <td>Centrum-Oost</td>\n",
       "      <td>52.36407</td>\n",
       "      <td>4.89393</td>\n",
       "      <td>Private room</td>\n",
       "      <td>106</td>\n",
       "      <td>1</td>\n",
       "      <td>339</td>\n",
       "      <td>2020-04-09</td>\n",
       "      <td>2.14</td>\n",
       "      <td>2</td>\n",
       "      <td>0</td>\n",
       "      <td>0</td>\n",
       "      <td>0363 CBB3 2C10 0C2A 1E29</td>\n",
       "    </tr>\n",
       "  </tbody>\n",
       "</table>\n",
       "</div>"
      ],
      "text/plain": [
       "      id                                          name  host_id  host_name  \\\n",
       "0   2818     Quiet Garden View Room & Super Fast Wi-Fi     3159     Daniel   \n",
       "1  20168  Studio with private bathroom in the centre 1    59484  Alexander   \n",
       "\n",
       "   neighbourhood_group                           neighbourhood  latitude  \\\n",
       "0                  NaN  Oostelijk Havengebied - Indische Buurt  52.36435   \n",
       "1                  NaN                            Centrum-Oost  52.36407   \n",
       "\n",
       "   longitude     room_type  price  minimum_nights  number_of_reviews  \\\n",
       "0    4.94358  Private room     69               3                322   \n",
       "1    4.89393  Private room    106               1                339   \n",
       "\n",
       "  last_review  reviews_per_month  calculated_host_listings_count  \\\n",
       "0  2023-02-28               1.90                               1   \n",
       "1  2020-04-09               2.14                               2   \n",
       "\n",
       "   availability_365  number_of_reviews_ltm                   license  \n",
       "0                44                     37  0363 5F3A 5684 6750 D14D  \n",
       "1                 0                      0  0363 CBB3 2C10 0C2A 1E29  "
      ]
     },
     "execution_count": 56,
     "metadata": {},
     "output_type": "execute_result"
    }
   ],
   "source": [
    "listings = pd.read_csv(file + \"listings.csv\")\n",
    "listings.head(2)"
   ]
  },
  {
   "cell_type": "code",
   "execution_count": 46,
   "id": "83c40e34-c3dd-41d1-8493-207f417ec597",
   "metadata": {
    "tags": []
   },
   "outputs": [
    {
     "data": {
      "text/html": [
       "<div>\n",
       "<style scoped>\n",
       "    .dataframe tbody tr th:only-of-type {\n",
       "        vertical-align: middle;\n",
       "    }\n",
       "\n",
       "    .dataframe tbody tr th {\n",
       "        vertical-align: top;\n",
       "    }\n",
       "\n",
       "    .dataframe thead th {\n",
       "        text-align: right;\n",
       "    }\n",
       "</style>\n",
       "<table border=\"1\" class=\"dataframe\">\n",
       "  <thead>\n",
       "    <tr style=\"text-align: right;\">\n",
       "      <th></th>\n",
       "      <th>id</th>\n",
       "      <th>listing_url</th>\n",
       "      <th>scrape_id</th>\n",
       "      <th>last_scraped</th>\n",
       "      <th>source</th>\n",
       "      <th>name</th>\n",
       "      <th>description</th>\n",
       "      <th>neighborhood_overview</th>\n",
       "      <th>picture_url</th>\n",
       "      <th>host_id</th>\n",
       "      <th>...</th>\n",
       "      <th>review_scores_communication</th>\n",
       "      <th>review_scores_location</th>\n",
       "      <th>review_scores_value</th>\n",
       "      <th>license</th>\n",
       "      <th>instant_bookable</th>\n",
       "      <th>calculated_host_listings_count</th>\n",
       "      <th>calculated_host_listings_count_entire_homes</th>\n",
       "      <th>calculated_host_listings_count_private_rooms</th>\n",
       "      <th>calculated_host_listings_count_shared_rooms</th>\n",
       "      <th>reviews_per_month</th>\n",
       "    </tr>\n",
       "  </thead>\n",
       "  <tbody>\n",
       "    <tr>\n",
       "      <th>0</th>\n",
       "      <td>2818</td>\n",
       "      <td>https://www.airbnb.com/rooms/2818</td>\n",
       "      <td>20230309202119</td>\n",
       "      <td>2023-03-09</td>\n",
       "      <td>city scrape</td>\n",
       "      <td>Quiet Garden View Room &amp; Super Fast Wi-Fi</td>\n",
       "      <td>Quiet Garden View Room &amp; Super Fast Wi-Fi&lt;br /...</td>\n",
       "      <td>Indische Buurt (\"Indies Neighborhood\") is a ne...</td>\n",
       "      <td>https://a0.muscache.com/pictures/10272854/8dcc...</td>\n",
       "      <td>3159</td>\n",
       "      <td>...</td>\n",
       "      <td>4.98</td>\n",
       "      <td>4.69</td>\n",
       "      <td>4.81</td>\n",
       "      <td>0363 5F3A 5684 6750 D14D</td>\n",
       "      <td>f</td>\n",
       "      <td>1</td>\n",
       "      <td>0</td>\n",
       "      <td>1</td>\n",
       "      <td>0</td>\n",
       "      <td>1.90</td>\n",
       "    </tr>\n",
       "    <tr>\n",
       "      <th>1</th>\n",
       "      <td>311124</td>\n",
       "      <td>https://www.airbnb.com/rooms/311124</td>\n",
       "      <td>20230309202119</td>\n",
       "      <td>2023-03-10</td>\n",
       "      <td>city scrape</td>\n",
       "      <td>*historic centre* *bright* *canal view* *jordaan*</td>\n",
       "      <td>&gt; Please be so kind to book  ONLY AFTER  conta...</td>\n",
       "      <td>Perfect location in the lively centre. All his...</td>\n",
       "      <td>https://a0.muscache.com/pictures/5208672/5bb60...</td>\n",
       "      <td>1600010</td>\n",
       "      <td>...</td>\n",
       "      <td>4.92</td>\n",
       "      <td>4.93</td>\n",
       "      <td>4.60</td>\n",
       "      <td>0363 59D8 7D30 6CFA DC81</td>\n",
       "      <td>f</td>\n",
       "      <td>1</td>\n",
       "      <td>1</td>\n",
       "      <td>0</td>\n",
       "      <td>0</td>\n",
       "      <td>0.66</td>\n",
       "    </tr>\n",
       "  </tbody>\n",
       "</table>\n",
       "<p>2 rows × 75 columns</p>\n",
       "</div>"
      ],
      "text/plain": [
       "       id                          listing_url       scrape_id last_scraped  \\\n",
       "0    2818    https://www.airbnb.com/rooms/2818  20230309202119   2023-03-09   \n",
       "1  311124  https://www.airbnb.com/rooms/311124  20230309202119   2023-03-10   \n",
       "\n",
       "        source                                               name  \\\n",
       "0  city scrape          Quiet Garden View Room & Super Fast Wi-Fi   \n",
       "1  city scrape  *historic centre* *bright* *canal view* *jordaan*   \n",
       "\n",
       "                                         description  \\\n",
       "0  Quiet Garden View Room & Super Fast Wi-Fi<br /...   \n",
       "1  > Please be so kind to book  ONLY AFTER  conta...   \n",
       "\n",
       "                               neighborhood_overview  \\\n",
       "0  Indische Buurt (\"Indies Neighborhood\") is a ne...   \n",
       "1  Perfect location in the lively centre. All his...   \n",
       "\n",
       "                                         picture_url  host_id  ...  \\\n",
       "0  https://a0.muscache.com/pictures/10272854/8dcc...     3159  ...   \n",
       "1  https://a0.muscache.com/pictures/5208672/5bb60...  1600010  ...   \n",
       "\n",
       "  review_scores_communication review_scores_location review_scores_value  \\\n",
       "0                        4.98                   4.69                4.81   \n",
       "1                        4.92                   4.93                4.60   \n",
       "\n",
       "                    license instant_bookable calculated_host_listings_count  \\\n",
       "0  0363 5F3A 5684 6750 D14D                f                              1   \n",
       "1  0363 59D8 7D30 6CFA DC81                f                              1   \n",
       "\n",
       "  calculated_host_listings_count_entire_homes  \\\n",
       "0                                           0   \n",
       "1                                           1   \n",
       "\n",
       "  calculated_host_listings_count_private_rooms  \\\n",
       "0                                            1   \n",
       "1                                            0   \n",
       "\n",
       "  calculated_host_listings_count_shared_rooms reviews_per_month  \n",
       "0                                           0              1.90  \n",
       "1                                           0              0.66  \n",
       "\n",
       "[2 rows x 75 columns]"
      ]
     },
     "execution_count": 46,
     "metadata": {},
     "output_type": "execute_result"
    }
   ],
   "source": [
    "listings_detailed = pd.read_csv(file + \"listings_detailed.csv\")\n",
    "listings_detailed.head(2)"
   ]
  },
  {
   "cell_type": "markdown",
   "id": "15a3eec1-17ee-4725-b52c-1f353507ff1d",
   "metadata": {},
   "source": [
    "### Calendar dataset"
   ]
  },
  {
   "cell_type": "code",
   "execution_count": 47,
   "id": "e463fe39-8d5a-4fe6-83a7-6007261876f7",
   "metadata": {
    "tags": []
   },
   "outputs": [
    {
     "data": {
      "text/html": [
       "<div>\n",
       "<style scoped>\n",
       "    .dataframe tbody tr th:only-of-type {\n",
       "        vertical-align: middle;\n",
       "    }\n",
       "\n",
       "    .dataframe tbody tr th {\n",
       "        vertical-align: top;\n",
       "    }\n",
       "\n",
       "    .dataframe thead th {\n",
       "        text-align: right;\n",
       "    }\n",
       "</style>\n",
       "<table border=\"1\" class=\"dataframe\">\n",
       "  <thead>\n",
       "    <tr style=\"text-align: right;\">\n",
       "      <th></th>\n",
       "      <th>listing_id</th>\n",
       "      <th>date</th>\n",
       "      <th>available</th>\n",
       "      <th>price</th>\n",
       "      <th>adjusted_price</th>\n",
       "      <th>minimum_nights</th>\n",
       "      <th>maximum_nights</th>\n",
       "    </tr>\n",
       "  </thead>\n",
       "  <tbody>\n",
       "    <tr>\n",
       "      <th>0</th>\n",
       "      <td>2818</td>\n",
       "      <td>2023-03-09</td>\n",
       "      <td>f</td>\n",
       "      <td>$69.00</td>\n",
       "      <td>$69.00</td>\n",
       "      <td>3.0</td>\n",
       "      <td>1125.0</td>\n",
       "    </tr>\n",
       "    <tr>\n",
       "      <th>1</th>\n",
       "      <td>2818</td>\n",
       "      <td>2023-03-10</td>\n",
       "      <td>f</td>\n",
       "      <td>$69.00</td>\n",
       "      <td>$69.00</td>\n",
       "      <td>3.0</td>\n",
       "      <td>1125.0</td>\n",
       "    </tr>\n",
       "    <tr>\n",
       "      <th>2</th>\n",
       "      <td>2818</td>\n",
       "      <td>2023-03-11</td>\n",
       "      <td>f</td>\n",
       "      <td>$69.00</td>\n",
       "      <td>$69.00</td>\n",
       "      <td>3.0</td>\n",
       "      <td>1125.0</td>\n",
       "    </tr>\n",
       "    <tr>\n",
       "      <th>3</th>\n",
       "      <td>2818</td>\n",
       "      <td>2023-03-12</td>\n",
       "      <td>f</td>\n",
       "      <td>$69.00</td>\n",
       "      <td>$69.00</td>\n",
       "      <td>3.0</td>\n",
       "      <td>1125.0</td>\n",
       "    </tr>\n",
       "  </tbody>\n",
       "</table>\n",
       "</div>"
      ],
      "text/plain": [
       "   listing_id        date available   price adjusted_price  minimum_nights  \\\n",
       "0        2818  2023-03-09         f  $69.00         $69.00             3.0   \n",
       "1        2818  2023-03-10         f  $69.00         $69.00             3.0   \n",
       "2        2818  2023-03-11         f  $69.00         $69.00             3.0   \n",
       "3        2818  2023-03-12         f  $69.00         $69.00             3.0   \n",
       "\n",
       "   maximum_nights  \n",
       "0          1125.0  \n",
       "1          1125.0  \n",
       "2          1125.0  \n",
       "3          1125.0  "
      ]
     },
     "execution_count": 47,
     "metadata": {},
     "output_type": "execute_result"
    }
   ],
   "source": [
    "calendar = pd.read_csv(file + 'calendar.csv')\n",
    "calendar.head(4)"
   ]
  },
  {
   "cell_type": "markdown",
   "id": "61150c19-0824-42c3-b5f6-95b150e871a4",
   "metadata": {},
   "source": [
    "### Reviews dataset"
   ]
  },
  {
   "cell_type": "code",
   "execution_count": 49,
   "id": "e1617618-e3d9-4617-92da-2ae98e8f47cf",
   "metadata": {
    "tags": []
   },
   "outputs": [
    {
     "data": {
      "text/html": [
       "<div>\n",
       "<style scoped>\n",
       "    .dataframe tbody tr th:only-of-type {\n",
       "        vertical-align: middle;\n",
       "    }\n",
       "\n",
       "    .dataframe tbody tr th {\n",
       "        vertical-align: top;\n",
       "    }\n",
       "\n",
       "    .dataframe thead th {\n",
       "        text-align: right;\n",
       "    }\n",
       "</style>\n",
       "<table border=\"1\" class=\"dataframe\">\n",
       "  <thead>\n",
       "    <tr style=\"text-align: right;\">\n",
       "      <th></th>\n",
       "      <th>listing_id</th>\n",
       "      <th>date</th>\n",
       "    </tr>\n",
       "  </thead>\n",
       "  <tbody>\n",
       "    <tr>\n",
       "      <th>0</th>\n",
       "      <td>2818</td>\n",
       "      <td>2009-03-30</td>\n",
       "    </tr>\n",
       "    <tr>\n",
       "      <th>1</th>\n",
       "      <td>2818</td>\n",
       "      <td>2009-04-24</td>\n",
       "    </tr>\n",
       "    <tr>\n",
       "      <th>2</th>\n",
       "      <td>2818</td>\n",
       "      <td>2009-05-03</td>\n",
       "    </tr>\n",
       "    <tr>\n",
       "      <th>3</th>\n",
       "      <td>2818</td>\n",
       "      <td>2009-05-18</td>\n",
       "    </tr>\n",
       "  </tbody>\n",
       "</table>\n",
       "</div>"
      ],
      "text/plain": [
       "   listing_id        date\n",
       "0        2818  2009-03-30\n",
       "1        2818  2009-04-24\n",
       "2        2818  2009-05-03\n",
       "3        2818  2009-05-18"
      ]
     },
     "execution_count": 49,
     "metadata": {},
     "output_type": "execute_result"
    }
   ],
   "source": [
    "reviews = pd.read_csv(file + 'reviews.csv')\n",
    "reviews.head(4)"
   ]
  },
  {
   "cell_type": "code",
   "execution_count": 50,
   "id": "ac4532f9-6ffd-42ae-98d0-044e1de488ba",
   "metadata": {
    "tags": []
   },
   "outputs": [
    {
     "data": {
      "text/html": [
       "<div>\n",
       "<style scoped>\n",
       "    .dataframe tbody tr th:only-of-type {\n",
       "        vertical-align: middle;\n",
       "    }\n",
       "\n",
       "    .dataframe tbody tr th {\n",
       "        vertical-align: top;\n",
       "    }\n",
       "\n",
       "    .dataframe thead th {\n",
       "        text-align: right;\n",
       "    }\n",
       "</style>\n",
       "<table border=\"1\" class=\"dataframe\">\n",
       "  <thead>\n",
       "    <tr style=\"text-align: right;\">\n",
       "      <th></th>\n",
       "      <th>listing_id</th>\n",
       "      <th>id</th>\n",
       "      <th>date</th>\n",
       "      <th>reviewer_id</th>\n",
       "      <th>reviewer_name</th>\n",
       "      <th>comments</th>\n",
       "    </tr>\n",
       "  </thead>\n",
       "  <tbody>\n",
       "    <tr>\n",
       "      <th>0</th>\n",
       "      <td>2818</td>\n",
       "      <td>1191</td>\n",
       "      <td>2009-03-30</td>\n",
       "      <td>10952</td>\n",
       "      <td>Lam</td>\n",
       "      <td>Daniel is really cool. The place was nice and ...</td>\n",
       "    </tr>\n",
       "    <tr>\n",
       "      <th>1</th>\n",
       "      <td>2818</td>\n",
       "      <td>1771</td>\n",
       "      <td>2009-04-24</td>\n",
       "      <td>12798</td>\n",
       "      <td>Alice</td>\n",
       "      <td>Daniel is the most amazing host! His place is ...</td>\n",
       "    </tr>\n",
       "    <tr>\n",
       "      <th>2</th>\n",
       "      <td>2818</td>\n",
       "      <td>1989</td>\n",
       "      <td>2009-05-03</td>\n",
       "      <td>11869</td>\n",
       "      <td>Natalja</td>\n",
       "      <td>We had such a great time in Amsterdam. Daniel ...</td>\n",
       "    </tr>\n",
       "    <tr>\n",
       "      <th>3</th>\n",
       "      <td>2818</td>\n",
       "      <td>2797</td>\n",
       "      <td>2009-05-18</td>\n",
       "      <td>14064</td>\n",
       "      <td>Enrique</td>\n",
       "      <td>Very professional operation. Room is very clea...</td>\n",
       "    </tr>\n",
       "  </tbody>\n",
       "</table>\n",
       "</div>"
      ],
      "text/plain": [
       "   listing_id    id        date  reviewer_id reviewer_name  \\\n",
       "0        2818  1191  2009-03-30        10952           Lam   \n",
       "1        2818  1771  2009-04-24        12798         Alice   \n",
       "2        2818  1989  2009-05-03        11869       Natalja   \n",
       "3        2818  2797  2009-05-18        14064       Enrique   \n",
       "\n",
       "                                            comments  \n",
       "0  Daniel is really cool. The place was nice and ...  \n",
       "1  Daniel is the most amazing host! His place is ...  \n",
       "2  We had such a great time in Amsterdam. Daniel ...  \n",
       "3  Very professional operation. Room is very clea...  "
      ]
     },
     "execution_count": 50,
     "metadata": {},
     "output_type": "execute_result"
    }
   ],
   "source": [
    "reviews_detailed = pd.read_csv(file + 'reviews_detailed.csv')\n",
    "reviews_detailed.head(4)"
   ]
  },
  {
   "cell_type": "markdown",
   "id": "891ec7a2-82ca-4d81-a5da-5448a443073e",
   "metadata": {
    "tags": []
   },
   "source": [
    "### Neighborhood dataset"
   ]
  },
  {
   "cell_type": "code",
   "execution_count": 51,
   "id": "74992d84-54bc-4b8b-9f52-4e9627b0d1f5",
   "metadata": {
    "tags": []
   },
   "outputs": [
    {
     "data": {
      "text/html": [
       "<div>\n",
       "<style scoped>\n",
       "    .dataframe tbody tr th:only-of-type {\n",
       "        vertical-align: middle;\n",
       "    }\n",
       "\n",
       "    .dataframe tbody tr th {\n",
       "        vertical-align: top;\n",
       "    }\n",
       "\n",
       "    .dataframe thead th {\n",
       "        text-align: right;\n",
       "    }\n",
       "</style>\n",
       "<table border=\"1\" class=\"dataframe\">\n",
       "  <thead>\n",
       "    <tr style=\"text-align: right;\">\n",
       "      <th></th>\n",
       "      <th>neighbourhood_group</th>\n",
       "      <th>neighbourhood</th>\n",
       "    </tr>\n",
       "  </thead>\n",
       "  <tbody>\n",
       "    <tr>\n",
       "      <th>0</th>\n",
       "      <td>NaN</td>\n",
       "      <td>Bijlmer-Centrum</td>\n",
       "    </tr>\n",
       "    <tr>\n",
       "      <th>1</th>\n",
       "      <td>NaN</td>\n",
       "      <td>Bijlmer-Oost</td>\n",
       "    </tr>\n",
       "    <tr>\n",
       "      <th>2</th>\n",
       "      <td>NaN</td>\n",
       "      <td>Bos en Lommer</td>\n",
       "    </tr>\n",
       "    <tr>\n",
       "      <th>3</th>\n",
       "      <td>NaN</td>\n",
       "      <td>Buitenveldert - Zuidas</td>\n",
       "    </tr>\n",
       "  </tbody>\n",
       "</table>\n",
       "</div>"
      ],
      "text/plain": [
       "   neighbourhood_group           neighbourhood\n",
       "0                  NaN         Bijlmer-Centrum\n",
       "1                  NaN            Bijlmer-Oost\n",
       "2                  NaN           Bos en Lommer\n",
       "3                  NaN  Buitenveldert - Zuidas"
      ]
     },
     "execution_count": 51,
     "metadata": {},
     "output_type": "execute_result"
    }
   ],
   "source": [
    "neighbourhoods = pd.read_csv(file + 'neighbourhoods.csv')\n",
    "neighbourhoods.head(4)"
   ]
  },
  {
   "cell_type": "code",
   "execution_count": 54,
   "id": "95391236-2018-464d-87a8-553e07dc5866",
   "metadata": {
    "tags": []
   },
   "outputs": [],
   "source": [
    "from json.decoder import JSONDecoder\n",
    "\n",
    "# neighbourhoods_geojson = JSONDecoder().decode((file + 'neighbourhoods.geojson').read_text())"
   ]
  }
 ],
 "metadata": {
  "kernelspec": {
   "display_name": "Python 3 (ipykernel)",
   "language": "python",
   "name": "python3"
  },
  "language_info": {
   "codemirror_mode": {
    "name": "ipython",
    "version": 3
   },
   "file_extension": ".py",
   "mimetype": "text/x-python",
   "name": "python",
   "nbconvert_exporter": "python",
   "pygments_lexer": "ipython3",
   "version": "3.9.12"
  }
 },
 "nbformat": 4,
 "nbformat_minor": 5
}
